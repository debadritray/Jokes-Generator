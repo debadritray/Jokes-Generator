{
  "cells": [
    {
      "cell_type": "markdown",
      "metadata": {
        "id": "view-in-github",
        "colab_type": "text"
      },
      "source": [
        "<a href=\"https://colab.research.google.com/github/debadritray/Jokes-Generator/blob/main/Welcome_To_Colab.ipynb\" target=\"_parent\"><img src=\"https://colab.research.google.com/assets/colab-badge.svg\" alt=\"Open In Colab\"/></a>"
      ]
    },
    {
      "cell_type": "code",
      "source": [
        "import pandas as pd\n"
      ],
      "metadata": {
        "id": "9NNfUzmIEizE"
      },
      "execution_count": 1,
      "outputs": []
    },
    {
      "cell_type": "code",
      "source": [
        " df = pd.read_csv('new1_cleaned_data.csv')"
      ],
      "metadata": {
        "id": "qwZbnqR0GBP6"
      },
      "execution_count": 2,
      "outputs": []
    },
    {
      "cell_type": "code",
      "source": [
        "print(\"Initial number of rows:\", len(df))"
      ],
      "metadata": {
        "id": "34btSf5BHs6Q",
        "outputId": "194b5879-e508-4b58-b746-04a2724d58f7",
        "colab": {
          "base_uri": "https://localhost:8080/"
        }
      },
      "execution_count": 3,
      "outputs": [
        {
          "output_type": "stream",
          "name": "stdout",
          "text": [
            "Initial number of rows: 27400\n"
          ]
        }
      ]
    },
    {
      "cell_type": "code",
      "source": [
        "df.drop_duplicates(inplace=True)\n",
        "print(\"Number of rows after removing full duplicates:\", len(df))"
      ],
      "metadata": {
        "id": "69dGDaSjHw1n",
        "outputId": "8c88e02b-da76-429d-9c48-0d97c9d5f086",
        "colab": {
          "base_uri": "https://localhost:8080/"
        }
      },
      "execution_count": 4,
      "outputs": [
        {
          "output_type": "stream",
          "name": "stdout",
          "text": [
            "Number of rows after removing full duplicates: 27000\n"
          ]
        }
      ]
    },
    {
      "cell_type": "code",
      "source": [
        "columns_for_rule2 = [col for col in df.columns if col != 'transaction_id']\n",
        "df.drop_duplicates(subset=columns_for_rule2, keep='first', inplace=True)\n",
        "print(\"Number of rows after removing duplicates differing only by transaction_id:\", len(df))"
      ],
      "metadata": {
        "id": "qPR5wS3jH0s7",
        "outputId": "1df4e477-42e1-40ba-cda4-bf1304fd084d",
        "colab": {
          "base_uri": "https://localhost:8080/"
        }
      },
      "execution_count": 5,
      "outputs": [
        {
          "output_type": "stream",
          "name": "stdout",
          "text": [
            "Number of rows after removing duplicates differing only by transaction_id: 27000\n"
          ]
        }
      ]
    },
    {
      "cell_type": "code",
      "source": [
        "duplicate_transaction_ids = df[df['transaction_id'].duplicated(keep=False)]['transaction_id'].unique()\n",
        "\n",
        "print(\"Number of transaction IDs appearing more than once:\", len(duplicate_transaction_ids))"
      ],
      "metadata": {
        "id": "V9RTsDslIPXc",
        "outputId": "46da206f-58b0-4ca6-8275-fd8f1fa04696",
        "colab": {
          "base_uri": "https://localhost:8080/"
        }
      },
      "execution_count": 6,
      "outputs": [
        {
          "output_type": "stream",
          "name": "stdout",
          "text": [
            "Number of transaction IDs appearing more than once: 3835\n"
          ]
        }
      ]
    },
    {
      "cell_type": "code",
      "source": [
        "df_cleaned = df[~df['transaction_id'].isin(duplicate_transaction_ids)].copy()\n",
        "\n",
        "print(\"Number of rows after removing all instances of reused transaction IDs:\", len(df_cleaned))\n"
      ],
      "metadata": {
        "id": "b1JVmucdIRqG",
        "outputId": "8373f70d-4e0f-429d-8143-665bf6ed5d90",
        "colab": {
          "base_uri": "https://localhost:8080/"
        }
      },
      "execution_count": 7,
      "outputs": [
        {
          "output_type": "stream",
          "name": "stdout",
          "text": [
            "Number of rows after removing all instances of reused transaction IDs: 18524\n"
          ]
        }
      ]
    },
    {
      "cell_type": "code",
      "source": [
        "print(df_cleaned.head())"
      ],
      "metadata": {
        "id": "Kgt_7x7-KnG1",
        "outputId": "6ff04c96-d6dc-44ea-e426-39915e702d9b",
        "colab": {
          "base_uri": "https://localhost:8080/"
        }
      },
      "execution_count": 8,
      "outputs": [
        {
          "output_type": "stream",
          "name": "stdout",
          "text": [
            "   transaction_id company id  originating account  originating routing number  \\\n",
            "0      24091621.0    CMP2830         1.129868e+09                   263182794   \n",
            "1      24032998.0    CMP3906         1.146830e+09                   221675451   \n",
            "2      24031444.0    CMP7967         1.122698e+09                    62203049   \n",
            "5      23040849.0    CMP4606         1.174167e+09                   125200950   \n",
            "6      24093080.0    CMP1677         1.067714e+09                    62201135   \n",
            "\n",
            "   Start_date transaction_time    end date    amount  Receiver account  \\\n",
            "0  2024-09-16          Morning  2024-09-19  18324.44        3043386954   \n",
            "1  2024-03-29          Morning  2024-04-01   6205.86        3086332545   \n",
            "2  2024-03-14          Evening  2024-03-18  24866.48        2086398530   \n",
            "5  2023-04-08          Morning  2023-04-11  12430.86        2088177357   \n",
            "6  2024-09-30        Afternoon  2024-10-07      0.00        1067714095   \n",
            "\n",
            "   receiving routing number  is_fraud  \n",
            "0                21000322.0     False  \n",
            "1               941178223.0      True  \n",
            "2               111903517.0     False  \n",
            "5                62202134.0     False  \n",
            "6               111310870.0      True  \n"
          ]
        }
      ]
    },
    {
      "cell_type": "code",
      "source": [
        "    print(df_cleaned.info())"
      ],
      "metadata": {
        "id": "dykS2I6BKtEH",
        "outputId": "3a2df63f-3017-4a1a-f720-cf63beb206af",
        "colab": {
          "base_uri": "https://localhost:8080/"
        }
      },
      "execution_count": 9,
      "outputs": [
        {
          "output_type": "stream",
          "name": "stdout",
          "text": [
            "<class 'pandas.core.frame.DataFrame'>\n",
            "Index: 18524 entries, 0 to 27399\n",
            "Data columns (total 11 columns):\n",
            " #   Column                      Non-Null Count  Dtype  \n",
            "---  ------                      --------------  -----  \n",
            " 0   transaction_id              18524 non-null  float64\n",
            " 1   company id                  18323 non-null  object \n",
            " 2   originating account         18524 non-null  float64\n",
            " 3   originating routing number  18524 non-null  int64  \n",
            " 4   Start_date                  18323 non-null  object \n",
            " 5   transaction_time            18524 non-null  object \n",
            " 6   end date                    18524 non-null  object \n",
            " 7   amount                      18323 non-null  float64\n",
            " 8   Receiver account            18524 non-null  int64  \n",
            " 9   receiving routing number    18524 non-null  float64\n",
            " 10  is_fraud                    18524 non-null  bool   \n",
            "dtypes: bool(1), float64(4), int64(2), object(4)\n",
            "memory usage: 1.6+ MB\n",
            "None\n"
          ]
        }
      ]
    },
    {
      "cell_type": "code",
      "source": [
        "df_cleaned.to_csv('cleaned_data.csv', index=False)\n",
        "print(\"Cleaned data saved to 'cleaned_data.csv'\")"
      ],
      "metadata": {
        "id": "VSq1MWmzK0E5",
        "outputId": "102a145b-9168-466b-daeb-d357c81d5ff3",
        "colab": {
          "base_uri": "https://localhost:8080/"
        }
      },
      "execution_count": 12,
      "outputs": [
        {
          "output_type": "stream",
          "name": "stdout",
          "text": [
            "Cleaned data saved to 'cleaned_data.csv'\n"
          ]
        }
      ]
    }
  ],
  "metadata": {
    "colab": {
      "name": "Welcome To Colab",
      "provenance": [],
      "include_colab_link": true
    },
    "kernelspec": {
      "display_name": "Python 3",
      "name": "python3"
    }
  },
  "nbformat": 4,
  "nbformat_minor": 0
}